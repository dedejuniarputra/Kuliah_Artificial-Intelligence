{
  "nbformat": 4,
  "nbformat_minor": 0,
  "metadata": {
    "colab": {
      "provenance": [],
      "collapsed_sections": [
        "cH9yzomi4RAw",
        "istaAyAfFCBP",
        "bAJvhem8EvuK",
        "ufKE_ccsEfgS",
        "0e1E-wkUetTq",
        "IaSBW0SRe0Wl"
      ]
    },
    "kernelspec": {
      "name": "python3",
      "display_name": "Python 3"
    },
    "language_info": {
      "name": "python"
    }
  },
  "cells": [
    {
      "cell_type": "markdown",
      "source": [
        "# **UAP PRAKTIKUM AI**\n",
        "Nama : Dede Juniar Putra\n",
        "\n",
        "NPM : 2217051015\n",
        "\n",
        "Kelas : B\n",
        "\n",
        "***TEMA 3***\n",
        "\n",
        "**Menentukan Penilaian Kinerja Karyawan**\n",
        "\n",
        "Anda adalah seorang manajer dari sebuah perusahaan, saat ini anda\n",
        "ingin menentukan karyawan terbaik dalam satu tahun terakhir\n",
        "berdasarkan kinerja mereka. Menggunakan metode AHP, bagaimana\n",
        "anda akan menentukan karyawan terbaik anda? Gunakan kriteria dan\n",
        "seleksi karyawan yang kredibel menurut anda.\n",
        "\n",
        "Kita akan menggunakan tiga alternatif karyawan dan kriteria sebagai berikut:\n",
        "1. Nada\n",
        "2. Sheva\n",
        "3. Dede\n",
        "4. Firda\n",
        "\n",
        "Komunikasi(K), Kerja Sama Tim(KST), Kreativitas(KV), Ketepatan Waktu(KW)\n",
        "\n",
        "\n",
        "---\n",
        "\n",
        "**Nada**\n",
        "\n",
        "\n",
        "*   K = 8\n",
        "*   KST = 7\n",
        "*   KV = 6\n",
        "*   KW = 9\n",
        "\n",
        "**Sheva**\n",
        "\n",
        "\n",
        "*   K = 7\n",
        "*   KST = 8\n",
        "*   KV = 7\n",
        "*   KW = 8\n",
        "\n",
        "**Dede**\n",
        "\n",
        "\n",
        "*   K = 6\n",
        "*   KST = 9\n",
        "*   KV = 8\n",
        "*   KW = 7\n",
        "\n",
        "**Firda**\n",
        "\n",
        "\n",
        "*   K = 9\n",
        "*   KST = 6\n",
        "*   KV = 7\n",
        "*   KW = 8"
      ],
      "metadata": {
        "id": "Li9dWaJX3Ppi"
      }
    },
    {
      "cell_type": "markdown",
      "source": [
        "# Library"
      ],
      "metadata": {
        "id": "cH9yzomi4RAw"
      }
    },
    {
      "cell_type": "code",
      "source": [
        "import numpy as np\n",
        "import pandas as pd\n",
        "from numpy.linalg import eig"
      ],
      "metadata": {
        "id": "Fx0kVlkx3fGL"
      },
      "execution_count": null,
      "outputs": []
    },
    {
      "cell_type": "code",
      "source": [
        "def calculate_priority_vector(criteria_matrix):\n",
        "    eigenvalues, eigenvectors = eig(criteria_matrix)\n",
        "    max_eigenvalue_index = np.argmax(eigenvalues)\n",
        "    max_eigvec = eigenvectors[:, max_eigenvalue_index]\n",
        "    priority_vector = max_eigvec / np.sum(max_eigvec)\n",
        "    return priority_vector.real"
      ],
      "metadata": {
        "id": "470hjf8UcYB-"
      },
      "execution_count": null,
      "outputs": []
    },
    {
      "cell_type": "markdown",
      "source": [
        "# Perbandingan berpasangan untuk kriteria dan menghitung bobot prioritas kriteria"
      ],
      "metadata": {
        "id": "istaAyAfFCBP"
      }
    },
    {
      "source": [
        "\n",
        "criteria_matrix = np.array([\n",
        "    [1, 2, 3, 4],\n",
        "    [1/2, 1, 2, 3],\n",
        "    [1/3, 1/2, 1, 2],\n",
        "    [1/4, 1/3, 1/2, 1]\n",
        "])\n",
        "\n",
        "criteria_weights = calculate_priority_vector(criteria_matrix)\n",
        "\n",
        "print(\"Bobot Prioritas Kriteria: \", criteria_weights)"
      ],
      "cell_type": "code",
      "metadata": {
        "colab": {
          "base_uri": "https://localhost:8080/"
        },
        "id": "m3h5I3zsYDGH",
        "outputId": "40980e98-f976-40f3-a05e-63631c899a31"
      },
      "execution_count": null,
      "outputs": [
        {
          "output_type": "stream",
          "name": "stdout",
          "text": [
            "Bobot Prioritas Kriteria:  [0.46729598 0.27718059 0.16008848 0.09543495]\n"
          ]
        }
      ]
    },
    {
      "cell_type": "code",
      "source": [
        "# Skor prioritas kriteria yang telah dihitung sebelumnya\n",
        "criteria_weights = [0.46729598 ,0.27718059, 0.16008848, 0.09543495]\n",
        "\n",
        "# Nama kriteria\n",
        "criteria = ['Komunikasi', 'Kerja Sama Tim', 'Kreativitas', 'Ketepatan Waktu']\n",
        "\n",
        "# Membuat DataFrame\n",
        "df_prioritas_kriteria = pd.DataFrame({\n",
        "    'Kriteria': criteria,\n",
        "    'Bobot Prioritas': criteria_weights\n",
        "})\n",
        "print(df_prioritas_kriteria)"
      ],
      "metadata": {
        "colab": {
          "base_uri": "https://localhost:8080/"
        },
        "id": "DlJDBFZFgwnG",
        "outputId": "f184acd4-712b-4a5c-c7d2-0923adfc72c4"
      },
      "execution_count": null,
      "outputs": [
        {
          "output_type": "stream",
          "name": "stdout",
          "text": [
            "          Kriteria  Bobot Prioritas\n",
            "0       Komunikasi         0.467296\n",
            "1   Kerja Sama Tim         0.277181\n",
            "2      Kreativitas         0.160088\n",
            "3  Ketepatan Waktu         0.095435\n"
          ]
        }
      ]
    },
    {
      "cell_type": "markdown",
      "source": [
        "# Perbandingan karyawan untuk komunikasi, KST, KV, KW"
      ],
      "metadata": {
        "id": "bAJvhem8EvuK"
      }
    },
    {
      "cell_type": "code",
      "source": [
        "communication_matrix = np.array([\n",
        "    [1, 8/7, 8/6, 8/9],\n",
        "    [7/8, 1, 7/6, 7/9],\n",
        "    [6/8, 6/7, 1, 6/9],\n",
        "    [9/8, 9/7, 9/6, 1]\n",
        "])\n",
        "\n",
        "teamwork_matrix = np.array([\n",
        "    [1, 7/8, 7/9, 7/6],\n",
        "    [8/7, 1, 8/9, 8/6],\n",
        "    [9/7, 9/8, 1, 9/6],\n",
        "    [6/7, 6/8, 6/9, 1]\n",
        "])\n",
        "\n",
        "creativity_matrix = np.array([\n",
        "    [1, 6/7, 6/8, 6/7],\n",
        "    [7/6, 1, 7/8, 7/7],\n",
        "    [8/6, 8/7, 1, 8/7],\n",
        "    [7/6, 7/8, 7/8, 1]\n",
        "])\n",
        "\n",
        "punctuality_matrix = np.array([\n",
        "    [1, 9/8, 9/7, 9/8],\n",
        "    [8/9, 1, 8/7, 8/8],\n",
        "    [7/9, 7/8, 1, 7/8],\n",
        "    [8/9, 8/7, 8/8, 1]\n",
        "])\n",
        "\n",
        "\n",
        "communication_weights = calculate_priority_vector(communication_matrix)\n",
        "teamwork_weights = calculate_priority_vector(teamwork_matrix)\n",
        "creativity_weights = calculate_priority_vector(creativity_matrix)\n",
        "punctuality_weights = calculate_priority_vector(punctuality_matrix)\n",
        "\n",
        "\n",
        "print(\"Bobot Prioritas Komunikasi: \", communication_weights)\n",
        "print(\"Bobot Prioritas Kerja Sama Tim: \", teamwork_weights)\n",
        "print(\"Bobot Prioritas Kreativitas: \", creativity_weights)\n",
        "print(\"Bobot Prioritas Ketepatan Waktu: \", punctuality_weights)"
      ],
      "metadata": {
        "colab": {
          "base_uri": "https://localhost:8080/"
        },
        "id": "5CJjHwB7WnYE",
        "outputId": "d5aaf94a-221e-444a-cab1-952ad3969dac"
      },
      "execution_count": null,
      "outputs": [
        {
          "output_type": "stream",
          "name": "stdout",
          "text": [
            "Bobot Prioritas Komunikasi:  [0.26666667 0.23333333 0.2        0.3       ]\n",
            "Bobot Prioritas Kerja Sama Tim:  [0.23333333 0.26666667 0.3        0.2       ]\n",
            "Bobot Prioritas Kreativitas:  [0.2159865  0.25198425 0.287982   0.24404724]\n",
            "Bobot Prioritas Ketepatan Waktu:  [0.2809368  0.2497216  0.2185064  0.25083519]\n"
          ]
        }
      ]
    },
    {
      "cell_type": "markdown",
      "source": [
        "# Menggabungkan Hasil Final Score"
      ],
      "metadata": {
        "id": "ufKE_ccsEfgS"
      }
    },
    {
      "cell_type": "code",
      "source": [
        "final_scores =(\n",
        "    criteria_weights [0] * communication_weights +\n",
        "    criteria_weights [1] * teamwork_weights +\n",
        "    criteria_weights [2] * creativity_weights +\n",
        "    criteria_weights [3] * punctuality_weights\n",
        ")\n",
        "print(\"Skor Akhir Karyawan: \", final_scores)"
      ],
      "metadata": {
        "colab": {
          "base_uri": "https://localhost:8080/"
        },
        "id": "63UXYBa7by0w",
        "outputId": "423f7564-7254-48d7-fe98-ed91bb63c1f3"
      },
      "execution_count": null,
      "outputs": [
        {
          "output_type": "stream",
          "name": "stdout",
          "text": [
            "Skor Akhir Karyawan:  [0.25067587 0.2471225  0.24356912 0.25863251]\n"
          ]
        }
      ]
    },
    {
      "cell_type": "markdown",
      "source": [
        "# Menentukan Karyawan terbaik dan terburuk"
      ],
      "metadata": {
        "id": "0e1E-wkUetTq"
      }
    },
    {
      "cell_type": "code",
      "source": [
        "\n",
        "karyawan = ['Nada', 'Sheva', 'Dede', 'Firda']\n",
        "best_employee_index = np.argmax(final_scores)\n",
        "worst_employee_index = np.argmin(final_scores)\n",
        "\n",
        "best_employee = karyawan[best_employee_index]\n",
        "worst_employee = karyawan[worst_employee_index]\n",
        "\n",
        "print(\"Karyawan Terbaik Ialah: \", best_employee)\n",
        "print(\"Karyawan Terburuk Ialah: \", worst_employee)\n"
      ],
      "metadata": {
        "colab": {
          "base_uri": "https://localhost:8080/"
        },
        "id": "IQKxoyducEJU",
        "outputId": "c2596e72-9521-4aab-cd59-e12052365167"
      },
      "execution_count": null,
      "outputs": [
        {
          "output_type": "stream",
          "name": "stdout",
          "text": [
            "Karyawan Terbaik Ialah:  Firda\n",
            "Karyawan Terburuk Ialah:  Dede\n"
          ]
        }
      ]
    },
    {
      "cell_type": "markdown",
      "source": [
        "# Kesimpulan"
      ],
      "metadata": {
        "id": "IaSBW0SRe0Wl"
      }
    },
    {
      "cell_type": "markdown",
      "source": [
        "Berdasarkan motode AHP, bobot priotitas kriteria untuk evaluasi karyawan menunjukkan bahwa Komunikasi(K) memiliki bobot tertinggi sebesar 46.73%, diikuti oleh Kerja Sama Tim(KST) sebesar 27.72%, Kreativitas(KV) sebesar 16.01%, dan Ketepatan Waktu(KW) sebesar 9.54%. ini juga menandakan bahwa dalam penilaian kinerja karyawan, aspek komunikasi dianggap paling krusial, sementara Ketepatan Waktu memiliki pengaru yang paling kecil. Berdasarkan bobot prioritas tersebut, evaluasi terhadap karyawan menunjukan bahwa Firda merupakan karyawan terbaik dengan skot tinggi di Komunikasi(9) dan Ketepatan Waktu(8), sedangkan Dede dianggap sebagai karyawan terburuk meskipun memiliki skor tinggi di Kerja Sama Tim(9) dan Kreativitas(8), namun skor Komunikasi(6) lebih rendah. Data ini juga dapat membantu dalam fokus evaluasi dan pengembangan terhadap karyawan serta dalam pengambilan keputusan yang lebih efektif terkait menentukan karyawan terbaik dalam satu tahun terakir berdasarkan kinerja."
      ],
      "metadata": {
        "id": "Bz0Yg0m1Bmil"
      }
    }
  ]
}