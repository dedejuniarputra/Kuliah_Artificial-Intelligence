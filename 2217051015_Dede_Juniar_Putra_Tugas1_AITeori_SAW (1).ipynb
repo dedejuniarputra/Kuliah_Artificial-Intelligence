{
  "nbformat": 4,
  "nbformat_minor": 0,
  "metadata": {
    "colab": {
      "provenance": []
    },
    "kernelspec": {
      "name": "python3",
      "display_name": "Python 3"
    },
    "language_info": {
      "name": "python"
    }
  },
  "cells": [
    {
      "cell_type": "markdown",
      "source": [
        "#Soal : Sistem Pendukung Keputusan Menggunakan Metode SAW"
      ],
      "metadata": {
        "id": "4FAzUblr29yx"
      }
    },
    {
      "cell_type": "markdown",
      "source": [
        "Perusahaan LSP ingin memilih karyawan terbaik untuk promosi. Mereka menggunakan beberapa kriteria dengan bobot yang berbeda. Kriteria-kriteria tersebut adalah:\n",
        "\n",
        "Pengalaman Kerja (dalam tahun) - Bobot: 0.5\n",
        "Pendidikan (1: SMA, 2: S1, 3: S2) - Bobot: 0.4\n",
        "Skill (1: Basic, 2: Intermediate, 3: Advanced) - Bobot: 0.3\n",
        "Sikap (1: Kurang, 2: Baik, 3: Sangat Baik) - Bobot: 0.2\n",
        "Tiga karyawan berikut dipertimbangkan untuk promosi:\n",
        "\n",
        "Karyawan A: Pengalaman Kerja: 6, Pendidikan: 5, Skill: 6, Sikap: 5\n",
        "Karyawan B: Pengalaman Kerja: 4, Pendidikan: 1, Skill: 1, Sikap: 4\n",
        "Karyawan C: Pengalaman Kerja: 5, Pendidikan: 2, Skill: 3, Sikap: 7\n",
        "Gunakan metode Simple Additive Weighting (SAW) untuk menentukan karyawan yang paling layak dipromosikan.\n",
        "\n",
        "\n",
        "Tentukan karyawan yang memiliki nilai akhir tertinggi dan layak dipromosikan."
      ],
      "metadata": {
        "id": "2hMZ0jJs3KJn"
      }
    },
    {
      "cell_type": "markdown",
      "source": [],
      "metadata": {
        "id": "4_c2X_HI3Gq9"
      }
    },
    {
      "cell_type": "code",
      "source": [
        "import numpy as np"
      ],
      "metadata": {
        "id": "UswDp_uM3qQ0"
      },
      "execution_count": null,
      "outputs": []
    },
    {
      "cell_type": "code",
      "source": [
        "# Data karyawan\n",
        "karyawan = [\"A\", \"B\", \"C\"]\n",
        "pengalaman_kerja = np.array([6, 4, 5])\n",
        "pendidikan = np.array([5, 1, 2])\n",
        "skill = np.array([6, 1, 3])\n",
        "sikap = np.array([5, 4, 7])"
      ],
      "metadata": {
        "id": "dufzasnU3ym9"
      },
      "execution_count": null,
      "outputs": []
    },
    {
      "cell_type": "code",
      "source": [
        "# Bobot untuk setiap kriteria\n",
        "bobot = np.array([0.5, 0.4, 0.3, 0.2])"
      ],
      "metadata": {
        "id": "S5VB-HXi32Q8"
      },
      "execution_count": null,
      "outputs": []
    },
    {
      "cell_type": "code",
      "source": [
        "# Matriks keputusan awal\n",
        "matriks_keputusan = np.array([\n",
        "    pengalaman_kerja,\n",
        "    pendidikan,\n",
        "    skill,\n",
        "    sikap\n",
        "]).T"
      ],
      "metadata": {
        "id": "qlGDY1ID38K0"
      },
      "execution_count": null,
      "outputs": []
    },
    {
      "cell_type": "code",
      "source": [
        "# Normalisasi matriks keputusan\n",
        "normalisasi_matriks = matriks_keputusan / matriks_keputusan.max(axis=0)"
      ],
      "metadata": {
        "id": "V-PF9USS39rE"
      },
      "execution_count": null,
      "outputs": []
    },
    {
      "cell_type": "code",
      "source": [
        "# Menghitung nilai akhir dengan metode SAW\n",
        "nilai_akhir = normalisasi_matriks.dot(bobot)"
      ],
      "metadata": {
        "id": "phF70sJG4CeY"
      },
      "execution_count": null,
      "outputs": []
    },
    {
      "cell_type": "code",
      "source": [
        "# Menentukan karyawan terbaik\n",
        "terbaik_index = np.argmax(nilai_akhir)\n",
        "karyawan_terbaik = karyawan[terbaik_index]"
      ],
      "metadata": {
        "id": "qucqtvLX4F79"
      },
      "execution_count": null,
      "outputs": []
    },
    {
      "cell_type": "code",
      "source": [
        "# Output hasil\n",
        "print(\"Nilai Akhir untuk setiap karyawan:\", nilai_akhir)"
      ],
      "metadata": {
        "colab": {
          "base_uri": "https://localhost:8080/"
        },
        "id": "0CGMzkYK4IvT",
        "outputId": "5fc13231-fbea-45c9-850f-6e4302b29ba4"
      },
      "execution_count": null,
      "outputs": [
        {
          "output_type": "stream",
          "name": "stdout",
          "text": [
            "Nilai Akhir untuk setiap karyawan: [1.34285714 0.57761905 0.92666667]\n"
          ]
        }
      ]
    },
    {
      "cell_type": "code",
      "source": [
        "print(\"Karyawan yang layak dipromosikan adalah:\", karyawan_terbaik)"
      ],
      "metadata": {
        "colab": {
          "base_uri": "https://localhost:8080/"
        },
        "id": "9f3-tG3Jdgla",
        "outputId": "4a009870-5f33-490e-c503-6c62b04cf97b"
      },
      "execution_count": null,
      "outputs": [
        {
          "output_type": "stream",
          "name": "stdout",
          "text": [
            "Karyawan yang layak dipromosikan adalah: A\n"
          ]
        }
      ]
    }
  ]
}